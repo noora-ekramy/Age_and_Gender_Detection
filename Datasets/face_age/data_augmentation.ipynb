{
 "cells": [
  {
   "cell_type": "code",
   "execution_count": null,
   "metadata": {},
   "outputs": [],
   "source": [
    "import numpy as np                #linear algbra\n",
    "import pandas as pd               #prosessing & CSV files I/O\n",
    "import cv2                        \n",
    "import matplotlib.pyplot as plt   #plotting\n",
    "import os                         # accessing directory structure\n",
    "import tensorflow as tf\n",
    "from glob import glob\n",
    "from PIL import Image\n",
    "from torchvision import transforms\n",
    "import torch"
   ]
  },
  {
   "cell_type": "code",
   "execution_count": null,
   "metadata": {},
   "outputs": [],
   "source": [
    "#perform data augmentation on the input image\n",
    "def augment_image(image_path, output_dir, output_name, num_augmentations=5):\n",
    "    # Load the image\n",
    "    image = Image.open(image_path)\n",
    "    \n",
    "    # Define the transformations for data augmentation\n",
    "    augmentation = transforms.Compose([\n",
    "        transforms.RandomHorizontalFlip(),\n",
    "        transforms.RandomRotation(30),\n",
    "        transforms.ColorJitter(brightness=0.2, contrast=0.2, saturation=0.2, hue=0.1),\n",
    "        transforms.RandomResizedCrop(size=image.size, scale=(0.8, 1.2), ratio=(0.8, 1.2)),\n",
    "        transforms.ToTensor()\n",
    "    ])\n",
    "    \n",
    "    # Create the output directory if it doesn't exist\n",
    "    os.makedirs(output_dir, exist_ok=True)\n",
    "    \n",
    "    # Apply data augmentation and save the augmented images\n",
    "    for i in range(num_augmentations):\n",
    "        augmented_image = augmentation(image)\n",
    "        augmented_image_path = os.path.join(output_dir, f\"{output_name}_{i+1}.jpg\")\n",
    "        augmented_image = augmented_image * 255  # Rescale the augmented image\n",
    "        augmented_image = transforms.ToPILImage()(augmented_image)  # Convert to PIL image format\n",
    "        augmented_image.save(augmented_image_path)\n",
    "        #print(f\"Augmented image {i+1} saved at {augmented_image_path}\")"
   ]
  },
  {
   "cell_type": "code",
   "execution_count": null,
   "metadata": {},
   "outputs": [],
   "source": [
    "path =\"Datasets\"\n",
    "INPUT_CLASSES_DIR = path+ \"\\\\face_age\"\n",
    "folders = []\n",
    "files=[]\n",
    "counter =0\n",
    "for root, dirs, files in os.walk(INPUT_CLASSES_DIR):\n",
    "    for folder in dirs:\n",
    "        folder_path = os.path.join(root, folder)\n",
    "        print(folder_path +\" is now augmented \")\n",
    "        for root1, dirs1, files1 in os.walk(folder_path):\n",
    "            for file in files1:\n",
    "                file_path = os.path.join(root1, file)\n",
    "                augment_image(file_path,\"augmented_images\\\\\"+ folder_path.split(\"\\\\\")[-1],str(counter),8)\n",
    "                counter+=1     "
   ]
  }
 ],
 "metadata": {
  "language_info": {
   "name": "python"
  },
  "orig_nbformat": 4
 },
 "nbformat": 4,
 "nbformat_minor": 2
}
